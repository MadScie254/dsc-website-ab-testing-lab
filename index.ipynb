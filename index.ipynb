{
 "cells": [
  {
   "cell_type": "markdown",
   "metadata": {},
   "source": [
    "# Website A/B Testing - Lab\n",
    "\n",
    "## Introduction\n",
    "\n",
    "In this lab, you'll get another chance to practice your skills at conducting a full A/B test analysis. It will also be a chance to practice your data exploration and processing skills! The scenario you'll be investigating is data collected from the homepage of a music app page for audacity.\n",
    "\n",
    "## Objectives\n",
    "\n",
    "You will be able to:\n",
    "* Analyze the data from a website A/B test to draw relevant conclusions\n",
    "* Explore and analyze web action data"
   ]
  },
  {
   "cell_type": "markdown",
   "metadata": {},
   "source": [
    "## Exploratory Analysis\n",
    "\n",
    "Start by loading in the dataset stored in the file 'homepage_actions.csv'. Then conduct an exploratory analysis to get familiar with the data."
   ]
  },
  {
   "cell_type": "markdown",
   "metadata": {},
   "source": [
    "> Hints:\n",
    "    * Start investigating the id column:\n",
    "        * How many viewers also clicked?\n",
    "        * Are there any anomalies with the data; did anyone click who didn't view?\n",
    "        * Is there any overlap between the control and experiment groups? \n",
    "            * If so, how do you plan to account for this in your experimental design?"
   ]
  },
  {
   "cell_type": "code",
   "execution_count": 5,
   "metadata": {},
   "outputs": [
    {
     "name": "stdout",
     "output_type": "stream",
     "text": [
      "                    timestamp      id       group action\n",
      "0  2016-09-24 17:42:27.839496  804196  experiment   view\n",
      "1  2016-09-24 19:19:03.542569  434745  experiment   view\n",
      "2  2016-09-24 19:36:00.944135  507599  experiment   view\n",
      "3  2016-09-24 19:59:02.646620  671993     control   view\n",
      "4  2016-09-24 20:26:14.466886  536734  experiment   view\n",
      "Dimensions: (8188, 4)\n",
      "Number of viewers: 6328\n",
      "Number of clickers: 1860\n",
      "Number of anomalies (clicked without viewing): 1860\n",
      "Number of IDs in both control and experiment groups: 0\n"
     ]
    }
   ],
   "source": [
    "#Your code here\n",
    "import pandas as pd\n",
    "\n",
    "# Load the dataset\n",
    "df = pd.read_csv('homepage_actions.csv')\n",
    "\n",
    "# Display the first few rows of the dataset\n",
    "print(df.head())\n",
    "\n",
    "# Check the dimensions of the dataset\n",
    "print(\"Dimensions:\", df.shape)\n",
    "\n",
    "# Count the number of unique viewers and clickers\n",
    "num_viewers = df['id'].nunique()\n",
    "num_clickers = df[df['action'] == 'click']['id'].nunique()\n",
    "\n",
    "print(\"Number of viewers:\", num_viewers)\n",
    "print(\"Number of clickers:\", num_clickers)\n",
    "\n",
    "# Check for anomalies: anyone clicked without viewing\n",
    "clicked_without_viewing = df[df['action'] == 'click']['id'].isin(df[df['action'] == 'view']['id'])\n",
    "anomalies = clicked_without_viewing.sum()\n",
    "\n",
    "print(\"Number of anomalies (clicked without viewing):\", anomalies)\n",
    "\n",
    "# Check for overlap between control and experiment groups\n",
    "control_group = df[df['group'] == 'control']['id']\n",
    "experiment_group = df[df['group'] == 'experiment']['id']\n",
    "\n",
    "overlap = control_group.isin(experiment_group).sum()\n",
    "print(\"Number of IDs in both control and experiment groups:\", overlap)\n"
   ]
  },
  {
   "cell_type": "markdown",
   "metadata": {},
   "source": [
    "## Conduct a Statistical Test\n",
    "\n",
    "Conduct a statistical test to determine whether the experimental homepage was more effective than that of the control group."
   ]
  },
  {
   "cell_type": "code",
   "execution_count": 6,
   "metadata": {},
   "outputs": [
    {
     "name": "stdout",
     "output_type": "stream",
     "text": [
      "Test Statistic: -2.618563885349469\n",
      "p-value: 0.008830075576595804\n"
     ]
    }
   ],
   "source": [
    "#Your code here\n",
    "import pandas as pd\n",
    "from statsmodels.stats.proportion import proportions_ztest\n",
    "\n",
    "# Load the dataset\n",
    "df = pd.read_csv('homepage_actions.csv')\n",
    "\n",
    "# Count the number of viewers and clickers in control and experiment groups\n",
    "control_viewers = df[(df['group'] == 'control') & (df['action'] == 'view')]['id'].nunique()\n",
    "control_clickers = df[(df['group'] == 'control') & (df['action'] == 'click')]['id'].nunique()\n",
    "\n",
    "experiment_viewers = df[(df['group'] == 'experiment') & (df['action'] == 'view')]['id'].nunique()\n",
    "experiment_clickers = df[(df['group'] == 'experiment') & (df['action'] == 'click')]['id'].nunique()\n",
    "\n",
    "# Perform the two-sample proportion test\n",
    "count = [control_clickers, experiment_clickers]\n",
    "nobs = [control_viewers, experiment_viewers]\n",
    "\n",
    "stat, pval = proportions_ztest(count, nobs)\n",
    "\n",
    "# Print the test statistic and p-value\n",
    "print(\"Test Statistic:\", stat)\n",
    "print(\"p-value:\", pval)"
   ]
  },
  {
   "cell_type": "markdown",
   "metadata": {},
   "source": [
    "## Verifying Results\n",
    "\n",
    "One sensible formulation of the data to answer the hypothesis test above would be to create a binary variable representing each individual in the experiment and control group. This binary variable would represent whether or not that individual clicked on the homepage; 1 for they did and 0 if they did not. \n",
    "\n",
    "The variance for the number of successes in a sample of a binomial variable with n observations is given by:\n",
    "\n",
    "## $n\\bullet p (1-p)$\n",
    "\n",
    "Given this, perform 3 steps to verify the results of your statistical test:\n",
    "1. Calculate the expected number of clicks for the experiment group, if it had the same click-through rate as that of the control group. \n",
    "2. Calculate the number of standard deviations that the actual number of clicks was from this estimate. \n",
    "3. Finally, calculate a p-value using the normal distribution based on this z-score."
   ]
  },
  {
   "cell_type": "markdown",
   "metadata": {},
   "source": [
    "### Step 1:\n",
    "Calculate the expected number of clicks for the experiment group, if it had the same click-through rate as that of the control group. "
   ]
  },
  {
   "cell_type": "code",
   "execution_count": 7,
   "metadata": {},
   "outputs": [
    {
     "name": "stdout",
     "output_type": "stream",
     "text": [
      "Expected number of clicks for the experiment group: 838.0168067226891\n"
     ]
    }
   ],
   "source": [
    "#Your code here\n",
    "import pandas as pd\n",
    "\n",
    "# Load the dataset\n",
    "df = pd.read_csv('homepage_actions.csv')\n",
    "\n",
    "# Calculate the click-through rate of the control group\n",
    "control_viewers = df[(df['group'] == 'control') & (df['action'] == 'view')]['id'].nunique()\n",
    "control_clickers = df[(df['group'] == 'control') & (df['action'] == 'click')]['id'].nunique()\n",
    "control_ctr = control_clickers / control_viewers\n",
    "\n",
    "# Calculate the expected number of clicks for the experiment group\n",
    "experiment_viewers = df[(df['group'] == 'experiment') & (df['action'] == 'view')]['id'].nunique()\n",
    "expected_experiment_clicks = control_ctr * experiment_viewers\n",
    "\n",
    "print(\"Expected number of clicks for the experiment group:\", expected_experiment_clicks)\n"
   ]
  },
  {
   "cell_type": "markdown",
   "metadata": {},
   "source": [
    "### Step 2:\n",
    "Calculate the number of standard deviations that the actual number of clicks was from this estimate."
   ]
  },
  {
   "cell_type": "code",
   "execution_count": 10,
   "metadata": {},
   "outputs": [
    {
     "name": "stdout",
     "output_type": "stream",
     "text": [
      "Number of standard deviations: 3.6625360854823588\n"
     ]
    }
   ],
   "source": [
    "#Your code here\n",
    "import pandas as pd\n",
    "import math\n",
    "\n",
    "# Load the dataset\n",
    "df = pd.read_csv('homepage_actions.csv')\n",
    "\n",
    "# Calculate the expected number of clicks for the experiment group (from previous step)\n",
    "expected_experiment_clicks = 838.0168067226891\n",
    "\n",
    "# Calculate the actual number of clicks for the experiment group\n",
    "experiment_clickers = df[(df['group'] == 'experiment') & (df['action'] == 'click')]['id'].nunique()\n",
    "\n",
    "# Calculate the standard deviation for the binomial distribution\n",
    "experiment_viewers = df[(df['group'] == 'experiment') & (df['action'] == 'view')]['id'].nunique()\n",
    "p = expected_experiment_clicks / experiment_viewers  # Estimated click-through rate\n",
    "variance = experiment_viewers * p * (1 - p)\n",
    "std_dev = math.sqrt(variance)\n",
    "\n",
    "# Calculate the number of standard deviations\n",
    "num_std_deviations = (experiment_clickers - expected_experiment_clicks) / std_dev\n",
    "\n",
    "print(\"Number of standard deviations:\", num_std_deviations)\n"
   ]
  },
  {
   "cell_type": "markdown",
   "metadata": {},
   "source": [
    "### Step 3: \n",
    "Finally, calculate a p-value using the normal distribution based on this z-score."
   ]
  },
  {
   "cell_type": "code",
   "execution_count": 11,
   "metadata": {},
   "outputs": [
    {
     "name": "stdout",
     "output_type": "stream",
     "text": [
      "p-value: 0.00012486528006949715\n"
     ]
    }
   ],
   "source": [
    "#Your code here\n",
    "import scipy.stats as stats\n",
    "\n",
    "# Calculate the p-value using the normal distribution\n",
    "p_value = 1 - stats.norm.cdf(3.6625360854823588)\n",
    "\n",
    "print(\"p-value:\", p_value)\n"
   ]
  },
  {
   "cell_type": "markdown",
   "metadata": {},
   "source": [
    "### Analysis:\n",
    "\n",
    "Does this result roughly match that of the previous statistical test?\n",
    "\n",
    "> Comment: **The analysis involving the calculation of the expected number of clicks for the experiment group, the number of standard deviations, and the p-value using the normal distribution provides a different perspective on verifying the results of the previous statistical test.**\n",
    "\n",
    "By comparing the obtained p-value from the normal distribution approach with the p-value from the previous statistical test (such as the two-sample proportion test), we can assess whether the results are consistent or not. If the p-values from both approaches are similar, it suggests that the experimental homepage was indeed more effective than the control group.\n",
    "\n",
    "It's important to note that both approaches make certain assumptions. The previous statistical test assumed that the click-through rates in the control and experiment groups followed a binomial distribution. The analysis involving the normal distribution assumes that the click-through rates are approximately normally distributed.\n",
    "\n",
    "If the results from the two approaches are consistent and indicate that the experimental homepage was more effective than the control group, it strengthens the evidence in favor of the experimental changes made to the homepage. However, if the results differ significantly, it may require further investigation or consideration of additional factors to understand the inconsistency.\n",
    "\n",
    "Ultimately, it is important to interpret the results of both analyses in the context of the specific experiment and the goals of the website A/B testing.**"
   ]
  },
  {
   "cell_type": "markdown",
   "metadata": {},
   "source": [
    "## Summary\n",
    "\n",
    "In this lab, you continued to get more practice designing and conducting AB tests. This required additional work preprocessing and formulating the initial problem in a suitable manner. Additionally, you also saw how to verify results, strengthening your knowledge of binomial variables, and reviewing initial statistical concepts of the central limit theorem, standard deviation, z-scores, and their accompanying p-values."
   ]
  }
 ],
 "metadata": {
  "kernelspec": {
   "display_name": "Python 3 (ipykernel)",
   "language": "python",
   "name": "python3"
  },
  "language_info": {
   "codemirror_mode": {
    "name": "ipython",
    "version": 3
   },
   "file_extension": ".py",
   "mimetype": "text/x-python",
   "name": "python",
   "nbconvert_exporter": "python",
   "pygments_lexer": "ipython3",
   "version": "3.9.13"
  }
 },
 "nbformat": 4,
 "nbformat_minor": 2
}
